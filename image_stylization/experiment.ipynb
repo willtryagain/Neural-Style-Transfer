{
 "cells": [
  {
   "cell_type": "code",
   "execution_count": null,
   "metadata": {},
   "outputs": [],
   "source": [
    "python -m image_stylization.image_stylization_transform \\\n",
    "      --num_styles=10 \\\n",
    "      --checkpoint=image_stylization/multistyle-pastiche-generator-monet.ckpt \\\n",
    "      --input_image=images/dancing.jpg \\\n",
    "      --which_styles=\"{0:0.1,1:0.1,2:0.1,3:0.1,4:0.1,5:0.1,6:0.1,7:0.1,8:0.1,9:0.1}\" \\\n",
    "      --output_dir=output \\\n",
    "      --output_basename=\"all_monet_styles\""
   ]
  },
  {
   "cell_type": "code",
   "execution_count": 1,
   "metadata": {},
   "outputs": [],
   "source": [
    "import tensorflow"
   ]
  }
 ],
 "metadata": {
  "kernelspec": {
   "display_name": "Python 3 (ipykernel)",
   "language": "python",
   "name": "python3"
  },
  "language_info": {
   "codemirror_mode": {
    "name": "ipython",
    "version": 3
   },
   "file_extension": ".py",
   "mimetype": "text/x-python",
   "name": "python",
   "nbconvert_exporter": "python",
   "pygments_lexer": "ipython3",
   "version": "3.8.18"
  }
 },
 "nbformat": 4,
 "nbformat_minor": 4
}
